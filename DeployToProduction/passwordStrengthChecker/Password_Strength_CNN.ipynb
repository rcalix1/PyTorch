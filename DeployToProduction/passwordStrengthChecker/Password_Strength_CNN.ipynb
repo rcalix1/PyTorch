{
 "cells": [
  {
   "cell_type": "code",
   "execution_count": 55,
   "id": "4d23b40b",
   "metadata": {},
   "outputs": [],
   "source": [
    "import pandas as pd\n",
    "import numpy as np\n",
    "import torch\n",
    "import torch.nn as nn\n",
    "import torch.optim as optim\n",
    "from torch.utils.data import Dataset, DataLoader\n",
    "from sklearn.model_selection import train_test_split\n"
   ]
  },
  {
   "cell_type": "code",
   "execution_count": 56,
   "id": "9e12d416",
   "metadata": {},
   "outputs": [
    {
     "name": "stdout",
     "output_type": "stream",
     "text": [
      "Using device: cuda\n"
     ]
    }
   ],
   "source": [
    "device = torch.device('cuda' if torch.cuda.is_available() else 'cpu')\n",
    "print(f'Using device: {device}')\n"
   ]
  },
  {
   "cell_type": "code",
   "execution_count": 57,
   "id": "0f1dacd9",
   "metadata": {},
   "outputs": [
    {
     "data": {
      "text/html": [
       "<div>\n",
       "<style scoped>\n",
       "    .dataframe tbody tr th:only-of-type {\n",
       "        vertical-align: middle;\n",
       "    }\n",
       "\n",
       "    .dataframe tbody tr th {\n",
       "        vertical-align: top;\n",
       "    }\n",
       "\n",
       "    .dataframe thead th {\n",
       "        text-align: right;\n",
       "    }\n",
       "</style>\n",
       "<table border=\"1\" class=\"dataframe\">\n",
       "  <thead>\n",
       "    <tr style=\"text-align: right;\">\n",
       "      <th></th>\n",
       "      <th>password</th>\n",
       "      <th>strength</th>\n",
       "    </tr>\n",
       "  </thead>\n",
       "  <tbody>\n",
       "    <tr>\n",
       "      <th>0</th>\n",
       "      <td>kzde5577</td>\n",
       "      <td>1</td>\n",
       "    </tr>\n",
       "    <tr>\n",
       "      <th>1</th>\n",
       "      <td>kino3434</td>\n",
       "      <td>1</td>\n",
       "    </tr>\n",
       "    <tr>\n",
       "      <th>2</th>\n",
       "      <td>visi7k1yr</td>\n",
       "      <td>1</td>\n",
       "    </tr>\n",
       "    <tr>\n",
       "      <th>3</th>\n",
       "      <td>megzy123</td>\n",
       "      <td>1</td>\n",
       "    </tr>\n",
       "    <tr>\n",
       "      <th>4</th>\n",
       "      <td>lamborghin1</td>\n",
       "      <td>1</td>\n",
       "    </tr>\n",
       "  </tbody>\n",
       "</table>\n",
       "</div>"
      ],
      "text/plain": [
       "      password  strength\n",
       "0     kzde5577         1\n",
       "1     kino3434         1\n",
       "2    visi7k1yr         1\n",
       "3     megzy123         1\n",
       "4  lamborghin1         1"
      ]
     },
     "execution_count": 57,
     "metadata": {},
     "output_type": "execute_result"
    }
   ],
   "source": [
    "data = pd.read_csv('data.csv')\n",
    "data.head()\n"
   ]
  },
  {
   "cell_type": "code",
   "execution_count": 58,
   "id": "19e5e023",
   "metadata": {},
   "outputs": [],
   "source": [
    "assert 'password' in data.columns and 'strength' in data.columns, \"Dataset must contain 'password' and 'strength' columns.\"\n",
    "\n",
    "all_chars = set(''.join(data['password'].astype(str).values))\n",
    "char_to_idx = {char: idx + 1 for idx, char in enumerate(sorted(all_chars))}\n",
    "vocab_size = len(char_to_idx) + 1\n",
    "\n",
    "max_length = 16\n",
    "\n",
    "def encode_password(pw):\n",
    "    pw_encoded = [char_to_idx.get(c, 0) for c in str(pw)]\n",
    "    if len(pw_encoded) < max_length:\n",
    "        pw_encoded += [0] * (max_length - len(pw_encoded))\n",
    "    else:\n",
    "        pw_encoded = pw_encoded[:max_length]\n",
    "    return pw_encoded\n",
    "\n",
    "encoded_passwords = np.array([encode_password(pw) for pw in data['password']])\n",
    "labels = data['strength'].values\n"
   ]
  },
  {
   "cell_type": "code",
   "execution_count": 59,
   "id": "61828079",
   "metadata": {},
   "outputs": [],
   "source": [
    "X_train, X_test, y_train, y_test = train_test_split(encoded_passwords, labels, test_size=0.2, random_state=42)\n"
   ]
  },
  {
   "cell_type": "code",
   "execution_count": 60,
   "id": "9d151090",
   "metadata": {},
   "outputs": [],
   "source": [
    "class PasswordDataset(Dataset):\n",
    "    def __init__(self, X, y):\n",
    "        self.X = torch.tensor(X, dtype=torch.int32)\n",
    "        self.y = torch.tensor(y, dtype=torch.long)\n",
    "    def __len__(self):\n",
    "        return len(self.X)\n",
    "    def __getitem__(self, idx):\n",
    "        return self.X[idx], self.y[idx]\n",
    "\n",
    "train_dataset = PasswordDataset(X_train, y_train)\n",
    "test_dataset = PasswordDataset(X_test, y_test)\n",
    "\n",
    "train_loader = DataLoader(train_dataset, batch_size=32, shuffle=True)\n",
    "test_loader = DataLoader(test_dataset, batch_size=32, shuffle=False)\n"
   ]
  },
  {
   "cell_type": "code",
   "execution_count": 61,
   "id": "9fd76206",
   "metadata": {},
   "outputs": [],
   "source": [
    "class PasswordCNN(nn.Module):\n",
    "    def __init__(self, vocab_size, embed_dim=32, num_classes=3):\n",
    "        super(PasswordCNN, self).__init__()\n",
    "        self.embedding = nn.Embedding(vocab_size, embed_dim, padding_idx=0)\n",
    "        self.conv1 = nn.Conv1d(embed_dim, 64, kernel_size=3, padding=1)\n",
    "        self.conv2 = nn.Conv1d(64, 128, kernel_size=3, padding=1)\n",
    "        self.pool = nn.AdaptiveMaxPool1d(1)\n",
    "        self.fc = nn.Linear(128, num_classes)\n",
    "    def forward(self, x):\n",
    "        x = self.embedding(x)\n",
    "        x = x.permute(0, 2, 1)\n",
    "        x = torch.relu(self.conv1(x))\n",
    "        x = torch.relu(self.conv2(x))\n",
    "        x = self.pool(x).squeeze(-1)\n",
    "        x = self.fc(x)\n",
    "        return x\n",
    "\n",
    "model = PasswordCNN(vocab_size).to(device)\n"
   ]
  },
  {
   "cell_type": "code",
   "execution_count": 62,
   "id": "6f38f6d6",
   "metadata": {},
   "outputs": [],
   "source": [
    "criterion = nn.CrossEntropyLoss()\n",
    "optimizer = optim.Adam(model.parameters(), lr=0.001)\n"
   ]
  },
  {
   "cell_type": "code",
   "execution_count": 63,
   "id": "ac432e4c",
   "metadata": {},
   "outputs": [
    {
     "name": "stdout",
     "output_type": "stream",
     "text": [
      "Epoch 1/30, Loss: 0.0711\n",
      "Epoch 2/30, Loss: 0.0233\n",
      "Epoch 3/30, Loss: 0.0163\n",
      "Epoch 4/30, Loss: 0.0127\n",
      "Epoch 5/30, Loss: 0.0107\n",
      "Epoch 6/30, Loss: 0.0097\n",
      "Epoch 7/30, Loss: 0.0089\n",
      "Epoch 8/30, Loss: 0.0080\n",
      "Epoch 9/30, Loss: 0.0078\n",
      "Epoch 10/30, Loss: 0.0072\n",
      "Epoch 11/30, Loss: 0.0072\n",
      "Epoch 12/30, Loss: 0.0078\n",
      "Epoch 13/30, Loss: 0.0064\n",
      "Epoch 14/30, Loss: 0.0069\n",
      "Epoch 15/30, Loss: 0.0066\n",
      "Epoch 16/30, Loss: 0.0064\n",
      "Epoch 17/30, Loss: 0.0060\n",
      "Epoch 18/30, Loss: 0.0061\n",
      "Epoch 19/30, Loss: 0.0056\n",
      "Epoch 20/30, Loss: 0.0053\n",
      "Epoch 21/30, Loss: 0.0055\n",
      "Epoch 22/30, Loss: 0.0053\n",
      "Epoch 23/30, Loss: 0.0055\n",
      "Epoch 24/30, Loss: 0.0059\n",
      "Epoch 25/30, Loss: 0.0060\n",
      "Epoch 26/30, Loss: 0.0061\n",
      "Epoch 27/30, Loss: 0.0054\n",
      "Epoch 28/30, Loss: 0.0051\n",
      "Epoch 29/30, Loss: 0.0051\n",
      "Epoch 30/30, Loss: 0.0057\n"
     ]
    }
   ],
   "source": [
    "num_epochs = 30\n",
    "for epoch in range(num_epochs):\n",
    "    model.train()\n",
    "    running_loss = 0.0\n",
    "    for inputs, labels in train_loader:\n",
    "        inputs, labels = inputs.to(device), labels.to(device)\n",
    "        optimizer.zero_grad()\n",
    "        outputs = model(inputs)\n",
    "        loss = criterion(outputs, labels)\n",
    "        loss.backward()\n",
    "        optimizer.step()\n",
    "        running_loss += loss.item()\n",
    "    print(f'Epoch {epoch+1}/{num_epochs}, Loss: {running_loss/len(train_loader):.4f}')\n"
   ]
  },
  {
   "cell_type": "code",
   "execution_count": 64,
   "id": "fef96c6b",
   "metadata": {},
   "outputs": [
    {
     "name": "stdout",
     "output_type": "stream",
     "text": [
      "Total Test Samples: 133928\n",
      "Test Accuracy: 99.90%\n"
     ]
    }
   ],
   "source": [
    "model.eval()\n",
    "correct = 0\n",
    "total = 0\n",
    "all_labels = []\n",
    "all_predictions = []\n",
    "\n",
    "with torch.no_grad():\n",
    "    for inputs, labels in test_loader:\n",
    "        inputs, labels = inputs.to(device), labels.to(device)\n",
    "        outputs = model(inputs)\n",
    "        _, predicted = torch.max(outputs, 1)\n",
    "        total += labels.size(0)\n",
    "        correct += (predicted == labels).sum().item()\n",
    "        all_labels.extend(labels.cpu().numpy())\n",
    "        all_predictions.extend(predicted.cpu().numpy())\n",
    "\n",
    "print(f'Total Test Samples: {total}')\n",
    "print(f'Test Accuracy: {100 * correct / total:.2f}%')\n"
   ]
  },
  {
   "cell_type": "code",
   "execution_count": 65,
   "id": "b1e48509",
   "metadata": {},
   "outputs": [
    {
     "name": "stdout",
     "output_type": "stream",
     "text": [
      "Model exported successfully with int32 input for web deployment!\n"
     ]
    }
   ],
   "source": [
    "dummy_input = torch.randint(0, vocab_size, (1, max_length), dtype=torch.int32).to(device)\n",
    "\n",
    "torch.onnx.export(\n",
    "    model,\n",
    "    dummy_input,\n",
    "    \"password_strength_cnn.onnx\",\n",
    "    input_names=['input'],\n",
    "    output_names=['output'],\n",
    "    opset_version=11,\n",
    "    do_constant_folding=True,\n",
    "    dynamic_axes={'input': {0: 'batch_size'}, 'output': {0: 'batch_size'}}\n",
    ")\n",
    "print(\"Model exported successfully with int32 input for web deployment!\")\n"
   ]
  },
  {
   "cell_type": "code",
   "execution_count": 66,
   "id": "ba332833-d786-4640-8d17-1f79190d2cca",
   "metadata": {},
   "outputs": [
    {
     "name": "stdout",
     "output_type": "stream",
     "text": [
      "Total Test Samples: 133928\n",
      "Test Accuracy: 99.90%\n",
      "\n",
      "Classification Report:\n",
      "              precision    recall  f1-score   support\n",
      "\n",
      "        Weak       1.00      1.00      1.00     17833\n",
      "     Average       1.00      1.00      1.00     99525\n",
      "      Strong       1.00      1.00      1.00     16570\n",
      "\n",
      "    accuracy                           1.00    133928\n",
      "   macro avg       1.00      1.00      1.00    133928\n",
      "weighted avg       1.00      1.00      1.00    133928\n",
      "\n"
     ]
    },
    {
     "data": {
      "image/png": "[encoded data removed]",
      "text/plain": [
       "<Figure size 600x500 with 2 Axes>"
      ]
     },
     "metadata": {},
     "output_type": "display_data"
    }
   ],
   "source": [
    "from sklearn.metrics import classification_report, confusion_matrix\n",
    "import seaborn as sns\n",
    "import matplotlib.pyplot as plt\n",
    "\n",
    "\n",
    "model.eval()\n",
    "correct = 0\n",
    "total = 0\n",
    "all_labels = []\n",
    "all_predictions = []\n",
    "\n",
    "with torch.no_grad():\n",
    "    for inputs, labels in test_loader:\n",
    "        inputs, labels = inputs.to(device), labels.to(device)\n",
    "        outputs = model(inputs)\n",
    "        _, predicted = torch.max(outputs, 1)\n",
    "        total += labels.size(0)\n",
    "        correct += (predicted == labels).sum().item()\n",
    "\n",
    "        all_labels.extend(labels.cpu().numpy())\n",
    "        all_predictions.extend(predicted.cpu().numpy())\n",
    "\n",
    "\n",
    "print(f'Total Test Samples: {total}')\n",
    "print(f'Test Accuracy: {100 * correct / total:.2f}%')\n",
    "\n",
    "\n",
    "print(\"\\nClassification Report:\")\n",
    "print(classification_report(all_labels, all_predictions, target_names=[\"Weak\", \"Average\", \"Strong\"]))\n",
    "\n",
    "\n",
    "cm = confusion_matrix(all_labels, all_predictions)\n",
    "plt.figure(figsize=(6,5))\n",
    "sns.heatmap(cm, annot=True, fmt='d', cmap='Blues', xticklabels=[\"Weak\", \"Average\", \"Strong\"], yticklabels=[\"Weak\", \"Average\", \"Strong\"])\n",
    "plt.xlabel('Predicted')\n",
    "plt.ylabel('True')\n",
    "plt.title('Confusion Matrix')\n",
    "plt.show()"
   ]
  }
 ],
 "metadata": {
  "kernelspec": {
   "display_name": "Python 3 (ipykernel)",
   "language": "python",
   "name": "python3"
  },
  "language_info": {
   "codemirror_mode": {
    "name": "ipython",
    "version": 3
   },
   "file_extension": ".py",
   "mimetype": "text/x-python",
   "name": "python",
   "nbconvert_exporter": "python",
   "pygments_lexer": "ipython3",
   "version": "3.10.16"
  }
 },
 "nbformat": 4,
 "nbformat_minor": 5
}
