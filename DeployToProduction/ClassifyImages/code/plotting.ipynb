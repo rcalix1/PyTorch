{
 "cells": [
  {
   "cell_type": "code",
   "execution_count": 3,
   "id": "40e3fe83-29a2-4a67-acbd-84c5db13dc4d",
   "metadata": {},
   "outputs": [],
   "source": [
    "%matplotlib ipympl\n",
    "def start_plot():\n",
    "    plt.close('all')\n",
    "    plt.ioff()\n",
    "        # fig = plt.figure()\n",
    "        # ax1 = fig.add_subplot(211)\n",
    "        # # ax1.title('Loss')\n",
    "        # ax2 = fig.add_subplot(212)\n",
    "        # # ax2.title('Accuracy')\n",
    "    fig, ax = plt.subplots(2, 1)\n",
    "    ax[0].set_title('Loss')\n",
    "    ax[1].set_title('Accuracy')\n",
    "    fig.show()\n",
    "        # fig.canvas.draw()\n",
    "    return fig, ax"
   ]
  },
  {
   "cell_type": "code",
   "execution_count": 4,
   "id": "e9bbc03b-f38b-410c-9027-0ae50cdf6087",
   "metadata": {},
   "outputs": [
    {
     "name": "stdout",
     "output_type": "stream",
     "text": [
      "Plotting loaded\n"
     ]
    }
   ],
   "source": [
    "print(\"Plotting loaded\")"
   ]
  }
 ],
 "metadata": {
  "kernelspec": {
   "display_name": "Python 3 (ipykernel)",
   "language": "python",
   "name": "python3"
  },
  "language_info": {
   "codemirror_mode": {
    "name": "ipython",
    "version": 3
   },
   "file_extension": ".py",
   "mimetype": "text/x-python",
   "name": "python",
   "nbconvert_exporter": "python",
   "pygments_lexer": "ipython3",
   "version": "3.11.4"
  }
 },
 "nbformat": 4,
 "nbformat_minor": 5
}
