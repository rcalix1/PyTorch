{
 "cells": [
  {
   "cell_type": "markdown",
   "id": "2ad2222e-7913-438b-b514-1e4d6d0a45bb",
   "metadata": {},
   "source": [
    "# ITS 520 Final Project\n",
    "## Danielle Turner, David Higley, Joseph Shapiro"
   ]
  },
  {
   "cell_type": "markdown",
   "id": "7ded96aa",
   "metadata": {},
   "source": [
    "### Libraries"
   ]
  },
  {
   "cell_type": "code",
   "execution_count": 1,
   "id": "b36802f1",
   "metadata": {
    "tags": []
   },
   "outputs": [],
   "source": [
    "#! pip install ipympl"
   ]
  },
  {
   "cell_type": "code",
   "execution_count": 2,
   "id": "fdcf9fd6-f407-4d5f-8b79-3c0c0119418d",
   "metadata": {
    "tags": []
   },
   "outputs": [],
   "source": [
    "%matplotlib ipympl"
   ]
  },
  {
   "cell_type": "code",
   "execution_count": 3,
   "id": "e72e7e04",
   "metadata": {
    "tags": []
   },
   "outputs": [
    {
     "name": "stdout",
     "output_type": "stream",
     "text": [
      "WARNING:tensorflow:From C:\\Users\\danda\\anaconda3\\Lib\\site-packages\\keras\\src\\losses.py:2976: The name tf.losses.sparse_softmax_cross_entropy is deprecated. Please use tf.compat.v1.losses.sparse_softmax_cross_entropy instead.\n",
      "\n",
      "WARNING:tensorflow:From C:\\Users\\danda\\anaconda3\\Lib\\site-packages\\keras\\src\\backend.py:873: The name tf.get_default_graph is deprecated. Please use tf.compat.v1.get_default_graph instead.\n",
      "\n"
     ]
    }
   ],
   "source": [
    "import torch\n",
    "import numpy as np\n",
    "import os\n",
    "import onnx\n",
    "import onnxruntime\n",
    "\n",
    "from torchvision import datasets\n",
    "from torchvision import transforms # to transform/edit images\n",
    "\n",
    "import matplotlib.pyplot as plt\n",
    "\n",
    "from PIL import Image"
   ]
  },
  {
   "cell_type": "code",
   "execution_count": 4,
   "id": "704abe22-37df-428c-9972-6910d6190d97",
   "metadata": {
    "tags": []
   },
   "outputs": [],
   "source": [
    "from sklearn.metrics import confusion_matrix\n",
    "from sklearn.metrics import precision_score, recall_score, accuracy_score, f1_score"
   ]
  },
  {
   "cell_type": "code",
   "execution_count": 5,
   "id": "ed57705d",
   "metadata": {
    "tags": []
   },
   "outputs": [],
   "source": [
    "import torch.optim as optim \n",
    "import torch.nn as nn"
   ]
  },
  {
   "cell_type": "code",
   "execution_count": 6,
   "id": "8deb795b-eeed-4b6f-960c-92b13c94f652",
   "metadata": {
    "tags": []
   },
   "outputs": [],
   "source": [
    "import time"
   ]
  },
  {
   "cell_type": "code",
   "execution_count": 7,
   "id": "c9ef83b4-a18e-45a2-a65b-2cab404205d9",
   "metadata": {
    "tags": []
   },
   "outputs": [],
   "source": [
    "torch_device = torch.device(\"cpu\")\n",
    "if torch.backends.mps.is_available():\n",
    "   torch_device = torch.device(\"mps\")\n",
    "if torch.cuda.is_available():\n",
    "   torch_device = torch.device(\"cuda\")\n",
    "   torch.backends.cudnn.benchmark = True"
   ]
  },
  {
   "cell_type": "code",
   "execution_count": 8,
   "id": "b9333310-8398-41e4-a12e-207c3157d1bb",
   "metadata": {
    "tags": []
   },
   "outputs": [
    {
     "name": "stdout",
     "output_type": "stream",
     "text": [
      "Plotting loaded\n"
     ]
    }
   ],
   "source": [
    "%run plotting.ipynb"
   ]
  },
  {
   "cell_type": "markdown",
   "id": "3e40621c",
   "metadata": {},
   "source": [
    "## Dataset\n"
   ]
  },
  {
   "cell_type": "code",
   "execution_count": 9,
   "id": "56530094-d12f-4a31-a49a-b3c741a137bb",
   "metadata": {
    "tags": []
   },
   "outputs": [
    {
     "name": "stdout",
     "output_type": "stream",
     "text": [
      "Dataset class loaded\n"
     ]
    }
   ],
   "source": [
    "%run dataset.ipynb"
   ]
  },
  {
   "cell_type": "markdown",
   "id": "8de4979b",
   "metadata": {},
   "source": [
    "## Normalize Data\n"
   ]
  },
  {
   "cell_type": "code",
   "execution_count": 10,
   "id": "c9072ee3",
   "metadata": {
    "tags": []
   },
   "outputs": [],
   "source": [
    "img_norm_mean = (0.5, 0.5, 0.5)"
   ]
  },
  {
   "cell_type": "code",
   "execution_count": 11,
   "id": "01c3b069",
   "metadata": {
    "tags": []
   },
   "outputs": [],
   "source": [
    "img_norm_std = (0.5, 0.5, 0.5)"
   ]
  },
  {
   "cell_type": "code",
   "execution_count": 12,
   "id": "9827ae15",
   "metadata": {
    "tags": []
   },
   "outputs": [
    {
     "name": "stderr",
     "output_type": "stream",
     "text": [
      "C:\\Users\\danda\\AppData\\Local\\Temp\\ipykernel_16400\\166717120.py:77: DeprecationWarning: Starting with ImageIO v3 the behavior of this function will switch to that of iio.v3.imread. To keep the current behavior (and make this warning disappear) use `import imageio.v2 as imageio` or call `imageio.v2.imread` directly.\n",
      "  img_arr = imageio.imread(os.path.join(raw_data, folder, image), pilmode=\"RGB\")\n",
      "C:\\Users\\danda\\anaconda3\\Lib\\site-packages\\torchvision\\transforms\\functional.py:1603: UserWarning: The default value of the antialias parameter of all the resizing transforms (Resize(), RandomResizedCrop(), etc.) will change from None to True in v0.17, in order to be consistent across the PIL and Tensor backends. To suppress this warning, directly pass antialias=True (recommended, future default), antialias=None (current default, which means False for Tensors and True for PIL), or antialias=False (only works on Tensors - PIL will still use antialiasing). This also applies if you are using the inference transforms from the models weights: update the call to weights.transforms(antialias=True).\n",
      "  warnings.warn(\n"
     ]
    }
   ],
   "source": [
    "train_tr = ITS520Dataset(dataset_save=\"raw_data/not_data.pt\", raw_data=\"raw_data/animals_not\", convert=True, size=32, transform=transforms.Compose([\n",
    "                                                transforms.Normalize(img_norm_mean, img_norm_std)\n",
    "                                            ]))\n",
    "\n",
    "test_tr = ITS520Dataset(dataset_save=\"raw_data/not_data.pt\", raw_data=\"raw_data/animals_not\", train=False, convert=True, size=32, transform=transforms.Compose([\n",
    "                                                transforms.Normalize(img_norm_mean, img_norm_std)\n",
    "                                            ]))"
   ]
  },
  {
   "cell_type": "code",
   "execution_count": 13,
   "id": "6d14c03a-fca2-4cce-aa0b-1d59d5890a48",
   "metadata": {
    "tags": []
   },
   "outputs": [
    {
     "data": {
      "text/plain": [
       "torch.Size([647, 3, 32, 32])"
      ]
     },
     "execution_count": 13,
     "metadata": {},
     "output_type": "execute_result"
    }
   ],
   "source": [
    "test_tr.data.shape"
   ]
  },
  {
   "cell_type": "code",
   "execution_count": 14,
   "id": "5d9f9cf3-644f-41f5-bc84-180335056318",
   "metadata": {
    "tags": []
   },
   "outputs": [
    {
     "data": {
      "image/png": "[encoded data removed]",
      "text/plain": [
       "<PIL.Image.Image image mode=RGB size=32x32>"
      ]
     },
     "execution_count": 14,
     "metadata": {},
     "output_type": "execute_result"
    }
   ],
   "source": [
    "Image.fromarray(((train_tr[844][0] / 2 + 0.5) * 255).moveaxis(0, -1).numpy().astype(np.uint8))"
   ]
  },
  {
   "cell_type": "markdown",
   "id": "83718c01",
   "metadata": {},
   "source": [
    "## Data Loaders"
   ]
  },
  {
   "cell_type": "code",
   "execution_count": 15,
   "id": "dc137f0f-d63f-4b38-a6fc-b20f0c1ac34d",
   "metadata": {
    "tags": []
   },
   "outputs": [],
   "source": [
    "batch_size=80"
   ]
  },
  {
   "cell_type": "code",
   "execution_count": 16,
   "id": "04e507bf",
   "metadata": {
    "tags": []
   },
   "outputs": [],
   "source": [
    "train_dl = torch.utils.data.DataLoader(train_tr, batch_size=batch_size, shuffle=True)"
   ]
  },
  {
   "cell_type": "code",
   "execution_count": 17,
   "id": "d7cfda2d-6217-44f4-8d4a-dbe5c787e461",
   "metadata": {
    "tags": []
   },
   "outputs": [],
   "source": [
    "test_dl = torch.utils.data.DataLoader(test_tr, batch_size=len(test_tr), shuffle=False)"
   ]
  },
  {
   "cell_type": "markdown",
   "id": "3f2a0d84",
   "metadata": {},
   "source": [
    "## Load Model"
   ]
  },
  {
   "cell_type": "code",
   "execution_count": 18,
   "id": "a90f23e7-4185-4386-aed9-92cdd0d7a176",
   "metadata": {
    "tags": []
   },
   "outputs": [
    {
     "name": "stdout",
     "output_type": "stream",
     "text": [
      "Model setup complete\n"
     ]
    }
   ],
   "source": [
    "%run model.ipynb"
   ]
  },
  {
   "cell_type": "markdown",
   "id": "dbf4a686",
   "metadata": {},
   "source": [
    "## Training process"
   ]
  },
  {
   "cell_type": "code",
   "execution_count": 28,
   "id": "06c16b98-2e69-4ecf-90e3-2d2b4e8d15f5",
   "metadata": {
    "tags": []
   },
   "outputs": [
    {
     "data": {
      "application/vnd.jupyter.widget-view+json": {
       "model_id": "5873f781525d48879f774be6968ff710",
       "version_major": 2,
       "version_minor": 0
      },
      "image/png": "[encoded data removed]",
      "text/html": [
       "\n",
       "            <div style=\"display: inline-block;\">\n",
       "                <div class=\"jupyter-widgets widget-label\" style=\"text-align: center;\">\n",
       "                    Figure\n",
       "                </div>\n",
       "                <img src='data:image/png;base64,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' width=640.0/>\n",
       "            </div>\n",
       "        "
      ],
      "text/plain": [
       "Canvas(toolbar=Toolbar(toolitems=[('Home', 'Reset original view', 'home', 'home'), ('Back', 'Back to previous …"
      ]
     },
     "metadata": {},
     "output_type": "display_data"
    }
   ],
   "source": [
    "%matplotlib ipympl\n",
    "fig, ax = start_plot()"
   ]
  },
  {
   "cell_type": "code",
   "execution_count": 29,
   "id": "6c30638c-8b6a-4470-9e7d-c887cd2f5b11",
   "metadata": {
    "scrolled": true,
    "tags": []
   },
   "outputs": [
    {
     "name": "stdout",
     "output_type": "stream",
     "text": [
      "training epoch 1 of 200\n",
      "loss= 1.099855722803058 accuracy= tensor(0.3179, device='cuda:0')\n",
      "training epoch 2 of 200\n",
      "loss= 1.0978469848632812 accuracy= tensor(0.3098, device='cuda:0')\n",
      "training epoch 3 of 200\n",
      "loss= 1.0956299955194646 accuracy= tensor(0.3576, device='cuda:0')\n",
      "training epoch 4 of 200\n",
      "loss= 1.094132965261286 accuracy= tensor(0.3720, device='cuda:0')\n",
      "training epoch 5 of 200\n",
      "loss= 1.0933390602920994 accuracy= tensor(0.3738, device='cuda:0')\n",
      "training epoch 6 of 200\n",
      "loss= 1.0925312114484382 accuracy= tensor(0.3742, device='cuda:0')\n",
      "training epoch 7 of 200\n",
      "loss= 1.0913466287381721 accuracy= tensor(0.3718, device='cuda:0')\n",
      "training epoch 8 of 200\n",
      "loss= 1.0904099146525066 accuracy= tensor(0.3710, device='cuda:0')\n",
      "training epoch 9 of 200\n",
      "loss= 1.0890096859498457 accuracy= tensor(0.3706, device='cuda:0')\n",
      "training epoch 10 of 200\n",
      "loss= 1.0879192352294922 accuracy= tensor(0.3739, device='cuda:0')\n",
      "training epoch 11 of 200\n",
      "loss= 1.0859811089255593 accuracy= tensor(0.3735, device='cuda:0')\n",
      "training epoch 12 of 200\n",
      "loss= 1.0843227090257588 accuracy= tensor(0.3780, device='cuda:0')\n",
      "training epoch 13 of 200\n",
      "loss= 1.0832222375002774 accuracy= tensor(0.3747, device='cuda:0')\n",
      "training epoch 14 of 200\n",
      "loss= 1.0810457034544512 accuracy= tensor(0.3758, device='cuda:0')\n",
      "training epoch 15 of 200\n",
      "loss= 1.078991084387808 accuracy= tensor(0.3736, device='cuda:0')\n",
      "training epoch 16 of 200\n",
      "loss= 1.0758083589149243 accuracy= tensor(0.3753, device='cuda:0')\n",
      "training epoch 17 of 200\n",
      "loss= 1.0746441284815471 accuracy= tensor(0.3835, device='cuda:0')\n",
      "training epoch 18 of 200\n",
      "loss= 1.0695559870113025 accuracy= tensor(0.3838, device='cuda:0')\n",
      "training epoch 19 of 200\n",
      "loss= 1.0650559591524529 accuracy= tensor(0.3963, device='cuda:0')\n",
      "training epoch 20 of 200\n",
      "loss= 1.0623001004710342 accuracy= tensor(0.3990, device='cuda:0')\n",
      "training epoch 21 of 200\n",
      "loss= 1.0536610140944973 accuracy= tensor(0.4398, device='cuda:0')\n",
      "training epoch 22 of 200\n",
      "loss= 1.047708789507548 accuracy= tensor(0.4373, device='cuda:0')\n",
      "training epoch 23 of 200\n",
      "loss= 1.0369605801322244 accuracy= tensor(0.4716, device='cuda:0')\n",
      "training epoch 24 of 200\n",
      "loss= 1.0284532073772314 accuracy= tensor(0.4922, device='cuda:0')\n",
      "training epoch 25 of 200\n",
      "loss= 1.0149307648340862 accuracy= tensor(0.5205, device='cuda:0')\n",
      "training epoch 26 of 200\n",
      "loss= 1.0005613493196892 accuracy= tensor(0.5309, device='cuda:0')\n",
      "training epoch 27 of 200\n",
      "loss= 0.9868390000227726 accuracy= tensor(0.5420, device='cuda:0')\n",
      "training epoch 28 of 200\n",
      "loss= 0.9645951877940785 accuracy= tensor(0.5576, device='cuda:0')\n",
      "training epoch 29 of 200\n",
      "loss= 0.9494207555597479 accuracy= tensor(0.5638, device='cuda:0')\n",
      "training epoch 30 of 200\n",
      "loss= 0.9351989446264325 accuracy= tensor(0.5574, device='cuda:0')\n",
      "training epoch 31 of 200\n",
      "loss= 0.920311942245021 accuracy= tensor(0.5788, device='cuda:0')\n",
      "training epoch 32 of 200\n",
      "loss= 0.912683261163307 accuracy= tensor(0.5883, device='cuda:0')\n",
      "training epoch 33 of 200\n",
      "loss= 0.8963869629484235 accuracy= tensor(0.5992, device='cuda:0')\n",
      "training epoch 34 of 200\n",
      "loss= 0.8788804068709865 accuracy= tensor(0.6013, device='cuda:0')\n",
      "training epoch 35 of 200\n",
      "loss= 0.8718288974328474 accuracy= tensor(0.6125, device='cuda:0')\n",
      "training epoch 36 of 200\n",
      "loss= 0.8582069729313706 accuracy= tensor(0.6208, device='cuda:0')\n",
      "training epoch 37 of 200\n",
      "loss= 0.8363419319644119 accuracy= tensor(0.6448, device='cuda:0')\n",
      "training epoch 38 of 200\n",
      "loss= 0.8305607420025449 accuracy= tensor(0.6442, device='cuda:0')\n",
      "training epoch 39 of 200\n",
      "loss= 0.8208206061160925 accuracy= tensor(0.6427, device='cuda:0')\n",
      "training epoch 40 of 200\n",
      "loss= 0.8027771476543311 accuracy= tensor(0.6582, device='cuda:0')\n",
      "training epoch 41 of 200\n",
      "loss= 0.7969131198796359 accuracy= tensor(0.6506, device='cuda:0')\n",
      "training epoch 42 of 200\n",
      "loss= 0.7705086433526241 accuracy= tensor(0.6761, device='cuda:0')\n",
      "training epoch 43 of 200\n",
      "loss= 0.7536725239320234 accuracy= tensor(0.6798, device='cuda:0')\n",
      "training epoch 44 of 200\n",
      "loss= 0.7394229390404441 accuracy= tensor(0.6843, device='cuda:0')\n",
      "training epoch 45 of 200\n",
      "loss= 0.7384587002523018 accuracy= tensor(0.6826, device='cuda:0')\n",
      "training epoch 46 of 200\n",
      "loss= 0.7366294770529775 accuracy= tensor(0.6877, device='cuda:0')\n",
      "training epoch 47 of 200\n",
      "loss= 0.7106478412946066 accuracy= tensor(0.6994, device='cuda:0')\n",
      "training epoch 48 of 200\n",
      "loss= 0.6996733708815142 accuracy= tensor(0.7019, device='cuda:0')\n",
      "training epoch 49 of 200\n",
      "loss= 0.6937399036956556 accuracy= tensor(0.7069, device='cuda:0')\n",
      "training epoch 50 of 200\n",
      "loss= 0.6847784808187773 accuracy= tensor(0.7179, device='cuda:0')\n",
      "training epoch 51 of 200\n",
      "loss= 0.6786165309674812 accuracy= tensor(0.7266, device='cuda:0')\n",
      "training epoch 52 of 200\n",
      "loss= 0.6727479461467627 accuracy= tensor(0.7275, device='cuda:0')\n",
      "training epoch 53 of 200\n",
      "loss= 0.6618820772026525 accuracy= tensor(0.7274, device='cuda:0')\n",
      "training epoch 54 of 200\n",
      "loss= 0.6490844325585798 accuracy= tensor(0.7391, device='cuda:0')\n",
      "training epoch 55 of 200\n",
      "loss= 0.6484518493666793 accuracy= tensor(0.7380, device='cuda:0')\n",
      "training epoch 56 of 200\n",
      "loss= 0.6245327618989077 accuracy= tensor(0.7430, device='cuda:0')\n",
      "training epoch 57 of 200\n",
      "loss= 0.633981089700352 accuracy= tensor(0.7454, device='cuda:0')\n",
      "training epoch 58 of 200\n",
      "loss= 0.6249257877017512 accuracy= tensor(0.7519, device='cuda:0')\n",
      "training epoch 59 of 200\n",
      "loss= 0.6061268503015692 accuracy= tensor(0.7635, device='cuda:0')\n",
      "training epoch 60 of 200\n",
      "loss= 0.6137400594624606 accuracy= tensor(0.7530, device='cuda:0')\n",
      "training epoch 61 of 200\n",
      "loss= 0.5990814277620027 accuracy= tensor(0.7618, device='cuda:0')\n",
      "training epoch 62 of 200\n",
      "loss= 0.5889952932343339 accuracy= tensor(0.7674, device='cuda:0')\n",
      "training epoch 63 of 200\n",
      "loss= 0.5838597696838956 accuracy= tensor(0.7680, device='cuda:0')\n",
      "training epoch 64 of 200\n",
      "loss= 0.581286449324001 accuracy= tensor(0.7521, device='cuda:0')\n",
      "training epoch 65 of 200\n",
      "loss= 0.580453796820207 accuracy= tensor(0.7680, device='cuda:0')\n",
      "training epoch 66 of 200\n",
      "loss= 0.5682244517586448 accuracy= tensor(0.7727, device='cuda:0')\n",
      "training epoch 67 of 200\n",
      "loss= 0.5587589831063242 accuracy= tensor(0.7792, device='cuda:0')\n",
      "training epoch 68 of 200\n",
      "loss= 0.551832866488081 accuracy= tensor(0.7789, device='cuda:0')\n",
      "training epoch 69 of 200\n",
      "loss= 0.5427660743395487 accuracy= tensor(0.7905, device='cuda:0')\n",
      "training epoch 70 of 200\n",
      "loss= 0.5393293310295452 accuracy= tensor(0.7842, device='cuda:0')\n",
      "training epoch 71 of 200\n",
      "loss= 0.5332274355671622 accuracy= tensor(0.7946, device='cuda:0')\n",
      "training epoch 72 of 200\n",
      "loss= 0.5296272048444459 accuracy= tensor(0.7938, device='cuda:0')\n",
      "training epoch 73 of 200\n",
      "loss= 0.5263876951102054 accuracy= tensor(0.7920, device='cuda:0')\n",
      "training epoch 74 of 200\n",
      "loss= 0.5161840102889321 accuracy= tensor(0.8050, device='cuda:0')\n",
      "training epoch 75 of 200\n",
      "loss= 0.5180690514318871 accuracy= tensor(0.7964, device='cuda:0')\n",
      "training epoch 76 of 200\n",
      "loss= 0.5110370291001869 accuracy= tensor(0.8086, device='cuda:0')\n",
      "training epoch 77 of 200\n",
      "loss= 0.50913364146695 accuracy= tensor(0.8052, device='cuda:0')\n",
      "training epoch 78 of 200\n",
      "loss= 0.5014987154440447 accuracy= tensor(0.8102, device='cuda:0')\n",
      "training epoch 79 of 200\n",
      "loss= 0.5049558444456621 accuracy= tensor(0.8085, device='cuda:0')\n",
      "training epoch 80 of 200\n",
      "loss= 0.4908229284214251 accuracy= tensor(0.8175, device='cuda:0')\n",
      "training epoch 81 of 200\n",
      "loss= 0.5013186642617891 accuracy= tensor(0.8092, device='cuda:0')\n",
      "training epoch 82 of 200\n",
      "loss= 0.4907140217044137 accuracy= tensor(0.8104, device='cuda:0')\n",
      "training epoch 83 of 200\n",
      "loss= 0.4915346151048487 accuracy= tensor(0.8112, device='cuda:0')\n",
      "training epoch 84 of 200\n",
      "loss= 0.4818411911978866 accuracy= tensor(0.8226, device='cuda:0')\n",
      "training epoch 85 of 200\n",
      "loss= 0.47675287181680853 accuracy= tensor(0.8281, device='cuda:0')\n",
      "training epoch 86 of 200\n",
      "loss= 0.4682207802931468 accuracy= tensor(0.8271, device='cuda:0')\n",
      "training epoch 87 of 200\n",
      "loss= 0.47422112930904736 accuracy= tensor(0.8171, device='cuda:0')\n",
      "training epoch 88 of 200\n",
      "loss= 0.46570814107403613 accuracy= tensor(0.8245, device='cuda:0')\n",
      "training epoch 89 of 200\n",
      "loss= 0.4672118136377046 accuracy= tensor(0.8216, device='cuda:0')\n",
      "training epoch 90 of 200\n",
      "loss= 0.4663665457205339 accuracy= tensor(0.8307, device='cuda:0')\n",
      "training epoch 91 of 200\n",
      "loss= 0.45950303836302325 accuracy= tensor(0.8311, device='cuda:0')\n",
      "training epoch 92 of 200\n",
      "loss= 0.45531413320339087 accuracy= tensor(0.8298, device='cuda:0')\n",
      "training epoch 93 of 200\n",
      "loss= 0.45041275746894605 accuracy= tensor(0.8381, device='cuda:0')\n",
      "training epoch 94 of 200\n",
      "loss= 0.4604009543404435 accuracy= tensor(0.8277, device='cuda:0')\n",
      "training epoch 95 of 200\n",
      "loss= 0.4433675877975695 accuracy= tensor(0.8394, device='cuda:0')\n",
      "training epoch 96 of 200\n",
      "loss= 0.4431239032384121 accuracy= tensor(0.8346, device='cuda:0')\n",
      "training epoch 97 of 200\n",
      "loss= 0.4529416940428994 accuracy= tensor(0.8338, device='cuda:0')\n",
      "training epoch 98 of 200\n",
      "loss= 0.4457739158110185 accuracy= tensor(0.8379, device='cuda:0')\n",
      "training epoch 99 of 200\n",
      "loss= 0.44729786298491736 accuracy= tensor(0.8294, device='cuda:0')\n",
      "training epoch 100 of 200\n",
      "loss= 0.43202135237780487 accuracy= tensor(0.8424, device='cuda:0')\n",
      "training epoch 101 of 200\n",
      "loss= 0.43081094098813605 accuracy= tensor(0.8365, device='cuda:0')\n",
      "training epoch 102 of 200\n",
      "loss= 0.4351905376622171 accuracy= tensor(0.8427, device='cuda:0')\n",
      "training epoch 103 of 200\n",
      "loss= 0.42929339860424853 accuracy= tensor(0.8387, device='cuda:0')\n",
      "training epoch 104 of 200\n",
      "loss= 0.42936812205748126 accuracy= tensor(0.8396, device='cuda:0')\n",
      "training epoch 105 of 200\n",
      "loss= 0.42228660980860394 accuracy= tensor(0.8417, device='cuda:0')\n",
      "training epoch 106 of 200\n",
      "loss= 0.41257055284398975 accuracy= tensor(0.8483, device='cuda:0')\n",
      "training epoch 107 of 200\n",
      "loss= 0.4264810925180262 accuracy= tensor(0.8411, device='cuda:0')\n",
      "training epoch 108 of 200\n",
      "loss= 0.41169459530801483 accuracy= tensor(0.8430, device='cuda:0')\n",
      "training epoch 109 of 200\n",
      "loss= 0.4224636735338153 accuracy= tensor(0.8502, device='cuda:0')\n",
      "training epoch 110 of 200\n",
      "loss= 0.4202845168836189 accuracy= tensor(0.8448, device='cuda:0')\n",
      "training epoch 111 of 200\n",
      "loss= 0.41383364074157947 accuracy= tensor(0.8504, device='cuda:0')\n",
      "training epoch 112 of 200\n",
      "loss= 0.41578922307852545 accuracy= tensor(0.8474, device='cuda:0')\n",
      "training epoch 113 of 200\n",
      "loss= 0.4143587423093391 accuracy= tensor(0.8429, device='cuda:0')\n",
      "training epoch 114 of 200\n",
      "loss= 0.4100687901178996 accuracy= tensor(0.8489, device='cuda:0')\n",
      "training epoch 115 of 200\n",
      "loss= 0.4050730755834868 accuracy= tensor(0.8486, device='cuda:0')\n",
      "training epoch 116 of 200\n",
      "loss= 0.3990578850110372 accuracy= tensor(0.8580, device='cuda:0')\n",
      "training epoch 117 of 200\n",
      "loss= 0.4020648097450083 accuracy= tensor(0.8566, device='cuda:0')\n",
      "training epoch 118 of 200\n",
      "loss= 0.40065173849915015 accuracy= tensor(0.8486, device='cuda:0')\n",
      "training epoch 119 of 200\n",
      "loss= 0.3888184202439857 accuracy= tensor(0.8608, device='cuda:0')\n",
      "training epoch 120 of 200\n",
      "loss= 0.3880459435961463 accuracy= tensor(0.8577, device='cuda:0')\n",
      "training epoch 121 of 200\n",
      "loss= 0.39145087066924933 accuracy= tensor(0.8557, device='cuda:0')\n",
      "training epoch 122 of 200\n",
      "loss= 0.38224543856851984 accuracy= tensor(0.8599, device='cuda:0')\n",
      "training epoch 123 of 200\n",
      "loss= 0.38654525803797174 accuracy= tensor(0.8608, device='cuda:0')\n",
      "training epoch 124 of 200\n",
      "loss= 0.37963060041268665 accuracy= tensor(0.8644, device='cuda:0')\n",
      "training epoch 125 of 200\n",
      "loss= 0.3752158627365575 accuracy= tensor(0.8659, device='cuda:0')\n",
      "training epoch 126 of 200\n",
      "loss= 0.37396307741150714 accuracy= tensor(0.8667, device='cuda:0')\n",
      "training epoch 127 of 200\n",
      "loss= 0.37772725838603394 accuracy= tensor(0.8684, device='cuda:0')\n",
      "training epoch 128 of 200\n",
      "loss= 0.37158254330808466 accuracy= tensor(0.8606, device='cuda:0')\n",
      "training epoch 129 of 200\n",
      "loss= 0.3676859181035649 accuracy= tensor(0.8627, device='cuda:0')\n",
      "training epoch 130 of 200\n",
      "loss= 0.3722365087631977 accuracy= tensor(0.8623, device='cuda:0')\n",
      "training epoch 131 of 200\n",
      "loss= 0.36937047586296545 accuracy= tensor(0.8694, device='cuda:0')\n",
      "training epoch 132 of 200\n",
      "loss= 0.3705234229564667 accuracy= tensor(0.8624, device='cuda:0')\n",
      "training epoch 133 of 200\n",
      "loss= 0.36150454210512567 accuracy= tensor(0.8724, device='cuda:0')\n",
      "training epoch 134 of 200\n",
      "loss= 0.3591694592526465 accuracy= tensor(0.8745, device='cuda:0')\n",
      "training epoch 135 of 200\n",
      "loss= 0.3634597704266057 accuracy= tensor(0.8630, device='cuda:0')\n",
      "training epoch 136 of 200\n",
      "loss= 0.36225235417033685 accuracy= tensor(0.8670, device='cuda:0')\n",
      "training epoch 137 of 200\n",
      "loss= 0.34033567390658637 accuracy= tensor(0.8774, device='cuda:0')\n",
      "training epoch 138 of 200\n",
      "loss= 0.36521261478915357 accuracy= tensor(0.8657, device='cuda:0')\n",
      "training epoch 139 of 200\n",
      "loss= 0.37243381594166614 accuracy= tensor(0.8656, device='cuda:0')\n",
      "training epoch 140 of 200\n",
      "loss= 0.34483669788548443 accuracy= tensor(0.8800, device='cuda:0')\n",
      "training epoch 141 of 200\n",
      "loss= 0.35556096425562195 accuracy= tensor(0.8701, device='cuda:0')\n",
      "training epoch 142 of 200\n",
      "loss= 0.34678911891850556 accuracy= tensor(0.8772, device='cuda:0')\n",
      "training epoch 143 of 200\n",
      "loss= 0.34793230123592145 accuracy= tensor(0.8739, device='cuda:0')\n",
      "training epoch 144 of 200\n",
      "loss= 0.3365895621704333 accuracy= tensor(0.8739, device='cuda:0')\n",
      "training epoch 145 of 200\n",
      "loss= 0.3457797621235703 accuracy= tensor(0.8777, device='cuda:0')\n",
      "training epoch 146 of 200\n",
      "loss= 0.34269095821814105 accuracy= tensor(0.8692, device='cuda:0')\n",
      "training epoch 147 of 200\n",
      "loss= 0.3546311069618572 accuracy= tensor(0.8684, device='cuda:0')\n",
      "training epoch 148 of 200\n",
      "loss= 0.3412004451860081 accuracy= tensor(0.8705, device='cuda:0')\n",
      "training epoch 149 of 200\n",
      "loss= 0.3341426903551275 accuracy= tensor(0.8810, device='cuda:0')\n",
      "training epoch 150 of 200\n",
      "loss= 0.33779476583004 accuracy= tensor(0.8814, device='cuda:0')\n",
      "training epoch 151 of 200\n",
      "loss= 0.32498284406734235 accuracy= tensor(0.8869, device='cuda:0')\n",
      "training epoch 152 of 200\n",
      "loss= 0.32262531690525287 accuracy= tensor(0.8868, device='cuda:0')\n",
      "training epoch 153 of 200\n",
      "loss= 0.32527137570308917 accuracy= tensor(0.8841, device='cuda:0')\n",
      "training epoch 154 of 200\n",
      "loss= 0.3215557300683224 accuracy= tensor(0.8870, device='cuda:0')\n",
      "training epoch 155 of 200\n",
      "loss= 0.3225269602103667 accuracy= tensor(0.8833, device='cuda:0')\n",
      "training epoch 156 of 200\n",
      "loss= 0.32524130335359863 accuracy= tensor(0.8849, device='cuda:0')\n",
      "training epoch 157 of 200\n",
      "loss= 0.32096967868732684 accuracy= tensor(0.8855, device='cuda:0')\n",
      "training epoch 158 of 200\n",
      "loss= 0.31261907427599933 accuracy= tensor(0.8864, device='cuda:0')\n",
      "training epoch 159 of 200\n",
      "loss= 0.31978911793593207 accuracy= tensor(0.8880, device='cuda:0')\n",
      "training epoch 160 of 200\n",
      "loss= 0.3156597844579003 accuracy= tensor(0.8854, device='cuda:0')\n",
      "training epoch 161 of 200\n",
      "loss= 0.3032952547073364 accuracy= tensor(0.8922, device='cuda:0')\n",
      "training epoch 162 of 200\n",
      "loss= 0.3022673951857018 accuracy= tensor(0.8927, device='cuda:0')\n",
      "training epoch 163 of 200\n",
      "loss= 0.3159563189203089 accuracy= tensor(0.8839, device='cuda:0')\n",
      "training epoch 164 of 200\n",
      "loss= 0.3098969775618929 accuracy= tensor(0.8944, device='cuda:0')\n",
      "training epoch 165 of 200\n",
      "loss= 0.310170721375581 accuracy= tensor(0.8983, device='cuda:0')\n",
      "training epoch 166 of 200\n",
      "loss= 0.30947691879489203 accuracy= tensor(0.8890, device='cuda:0')\n",
      "training epoch 167 of 200\n",
      "loss= 0.2962617842536984 accuracy= tensor(0.8995, device='cuda:0')\n",
      "training epoch 168 of 200\n",
      "loss= 0.2941901299989585 accuracy= tensor(0.9006, device='cuda:0')\n",
      "training epoch 169 of 200\n",
      "loss= 0.29389671529784345 accuracy= tensor(0.8949, device='cuda:0')\n",
      "training epoch 170 of 200\n",
      "loss= 0.2822461986180508 accuracy= tensor(0.9033, device='cuda:0')\n",
      "training epoch 171 of 200\n",
      "loss= 0.29276742131421063 accuracy= tensor(0.8930, device='cuda:0')\n",
      "training epoch 172 of 200\n",
      "loss= 0.29443602083307324 accuracy= tensor(0.8918, device='cuda:0')\n",
      "training epoch 173 of 200\n",
      "loss= 0.2958412865797679 accuracy= tensor(0.8915, device='cuda:0')\n",
      "training epoch 174 of 200\n",
      "loss= 0.2790760962348996 accuracy= tensor(0.9064, device='cuda:0')\n",
      "training epoch 175 of 200\n",
      "loss= 0.2809573168104345 accuracy= tensor(0.9001, device='cuda:0')\n",
      "training epoch 176 of 200\n",
      "loss= 0.28760531409220264 accuracy= tensor(0.8992, device='cuda:0')\n",
      "training epoch 177 of 200\n",
      "loss= 0.301590283260201 accuracy= tensor(0.8941, device='cuda:0')\n",
      "training epoch 178 of 200\n",
      "loss= 0.2928362958358996 accuracy= tensor(0.9006, device='cuda:0')\n",
      "training epoch 179 of 200\n",
      "loss= 0.28147198621070746 accuracy= tensor(0.9014, device='cuda:0')\n",
      "training epoch 180 of 200\n",
      "loss= 0.28583897469621716 accuracy= tensor(0.8978, device='cuda:0')\n",
      "training epoch 181 of 200\n",
      "loss= 0.2793123907212055 accuracy= tensor(0.8986, device='cuda:0')\n",
      "training epoch 182 of 200\n",
      "loss= 0.2785945480520075 accuracy= tensor(0.9074, device='cuda:0')\n",
      "training epoch 183 of 200\n",
      "loss= 0.27308262252446375 accuracy= tensor(0.9024, device='cuda:0')\n",
      "training epoch 184 of 200\n",
      "loss= 0.2662886972680236 accuracy= tensor(0.9098, device='cuda:0')\n",
      "training epoch 185 of 200\n",
      "loss= 0.2707990814339031 accuracy= tensor(0.9097, device='cuda:0')\n",
      "training epoch 186 of 200\n",
      "loss= 0.26173750333713763 accuracy= tensor(0.9105, device='cuda:0')\n",
      "training epoch 187 of 200\n",
      "loss= 0.26772173832763324 accuracy= tensor(0.9048, device='cuda:0')\n",
      "training epoch 188 of 200\n",
      "loss= 0.2755076587200165 accuracy= tensor(0.9046, device='cuda:0')\n",
      "training epoch 189 of 200\n",
      "loss= 0.27553295682777057 accuracy= tensor(0.9077, device='cuda:0')\n",
      "training epoch 190 of 200\n",
      "loss= 0.2806438857858831 accuracy= tensor(0.8975, device='cuda:0')\n",
      "training epoch 191 of 200\n",
      "loss= 0.2630519758571278 accuracy= tensor(0.9087, device='cuda:0')\n",
      "training epoch 192 of 200\n",
      "loss= 0.261661253192208 accuracy= tensor(0.9070, device='cuda:0')\n",
      "training epoch 193 of 200\n",
      "loss= 0.26098291982303967 accuracy= tensor(0.9120, device='cuda:0')\n",
      "training epoch 194 of 200\n",
      "loss= 0.26680095403483417 accuracy= tensor(0.9058, device='cuda:0')\n",
      "training epoch 195 of 200\n",
      "loss= 0.2501077800989151 accuracy= tensor(0.9139, device='cuda:0')\n",
      "training epoch 196 of 200\n",
      "loss= 0.24979338411128882 accuracy= tensor(0.9203, device='cuda:0')\n",
      "training epoch 197 of 200\n",
      "loss= 0.25269140980460425 accuracy= tensor(0.9114, device='cuda:0')\n",
      "training epoch 198 of 200\n",
      "loss= 0.24770709014300143 accuracy= tensor(0.9180, device='cuda:0')\n",
      "training epoch 199 of 200\n",
      "loss= 0.2495566245281335 accuracy= tensor(0.9124, device='cuda:0')\n",
      "training epoch 200 of 200\n",
      "loss= 0.24428913200443442 accuracy= tensor(0.9162, device='cuda:0')\n",
      "CPU times: total: 1min 15s\n",
      "Wall time: 1min 17s\n"
     ]
    },
    {
     "data": {
      "text/plain": [
       "Sequential(\n",
       "  (0): Conv2d(3, 32, kernel_size=(3, 3), stride=(1, 1))\n",
       "  (1): Conv2d(32, 32, kernel_size=(3, 3), stride=(1, 1))\n",
       "  (2): LeakyReLU(negative_slope=0.01)\n",
       "  (3): MaxPool2d(kernel_size=2, stride=2, padding=0, dilation=1, ceil_mode=False)\n",
       "  (4): Dropout(p=0.2, inplace=False)\n",
       "  (5): Conv2d(32, 64, kernel_size=(3, 3), stride=(1, 1))\n",
       "  (6): LeakyReLU(negative_slope=0.01)\n",
       "  (7): MaxPool2d(kernel_size=2, stride=2, padding=0, dilation=1, ceil_mode=False)\n",
       "  (8): Dropout(p=0.2, inplace=False)\n",
       "  (9): Conv2d(64, 128, kernel_size=(3, 3), stride=(1, 1))\n",
       "  (10): LeakyReLU(negative_slope=0.01)\n",
       "  (11): MaxPool2d(kernel_size=2, stride=2, padding=0, dilation=1, ceil_mode=False)\n",
       "  (12): Dropout(p=0.2, inplace=False)\n",
       "  (13): View()\n",
       "  (14): Linear(in_features=512, out_features=128, bias=True)\n",
       "  (15): LeakyReLU(negative_slope=0.01)\n",
       "  (16): Dropout(p=0.2, inplace=False)\n",
       "  (17): Linear(in_features=128, out_features=3, bias=True)\n",
       ")"
      ]
     },
     "execution_count": 29,
     "metadata": {},
     "output_type": "execute_result"
    }
   ],
   "source": [
    "%%time\n",
    "\n",
    "CNN = Classifier_CNN()\n",
    "\n",
    "CNN.to(torch_device)\n",
    "\n",
    "epochs = 200\n",
    "\n",
    "loss_hist = []\n",
    "accuracy_hist = []\n",
    "\n",
    "for i in range(epochs):\n",
    "    loss = 0\n",
    "    accuracy = 0\n",
    "    print('training epoch', i+1, \"of\", epochs)\n",
    "    for _, data in enumerate(train_dl, 0):\n",
    "        images_data = data[0].to(torch_device)\n",
    "        labels = data[1].to(torch_device)\n",
    "\n",
    "        iter_loss, iter_acc = CNN.run_training(images_data, labels)\n",
    "        loss += iter_loss\n",
    "        accuracy += iter_acc\n",
    "\n",
    "    loss /= len(train_dl)\n",
    "    accuracy /= len(train_dl)\n",
    "    loss_hist.append(loss)\n",
    "    accuracy_hist.append(accuracy.cpu())\n",
    "    print('loss=', loss, 'accuracy=', accuracy)\n",
    "    with plt.ioff():\n",
    "        ax[0].plot(loss_hist, color='blue', label='train')\n",
    "        ax[1].plot(accuracy_hist, color='blue', label='train')\n",
    "        fig.canvas.draw()\n",
    "        \n",
    "CNN.model.eval()"
   ]
  },
  {
   "cell_type": "markdown",
   "id": "5faa7281-f234-4327-8044-08095bd8e536",
   "metadata": {},
   "source": [
    "## Test model on the test set"
   ]
  },
  {
   "cell_type": "code",
   "execution_count": 30,
   "id": "8ac99f3d-c38a-493e-9090-a6e40953c0c4",
   "metadata": {
    "tags": []
   },
   "outputs": [],
   "source": [
    "def print_metrics_function(y_test, y_pred):\n",
    "    print('Accuracy: %.2f' % accuracy_score(y_test, y_pred))\n",
    "    confmat = confusion_matrix(y_true=y_test, y_pred=y_pred)\n",
    "    print(\"Confusion Matrix:\")\n",
    "    print(confmat)\n",
    "    print('Precision: %.3f' % precision_score(y_true=y_test, y_pred=y_pred, average='weighted'))\n",
    "    print('Recall: %.3f' % recall_score(y_true=y_test, y_pred=y_pred, average='weighted'))\n",
    "    print('F1-mesure: %.3f' % f1_score(y_true=y_test, y_pred=y_pred, average='weighted'))"
   ]
  },
  {
   "cell_type": "code",
   "execution_count": 31,
   "id": "d038e744-15af-4d65-bfdd-b94c45150c13",
   "metadata": {
    "tags": []
   },
   "outputs": [
    {
     "name": "stdout",
     "output_type": "stream",
     "text": [
      "Accuracy: 0.89\n",
      "Confusion Matrix:\n",
      "[[213  10   5]\n",
      " [ 17 172   8]\n",
      " [ 26   4 192]]\n",
      "Precision: 0.896\n",
      "Recall: 0.892\n",
      "F1-mesure: 0.892\n",
      "\n"
     ]
    }
   ],
   "source": [
    "with torch.no_grad():\n",
    "    for imgs, labels in test_dl:\n",
    "        batch_size = imgs.shape[0]\n",
    "        outputs = CNN.forward(imgs.to(torch_device))\n",
    "        vals, preds = torch.max(outputs, dim=1)\n",
    "        print_metrics_function(labels, preds.cpu())\n",
    "        print()"
   ]
  },
  {
   "cell_type": "markdown",
   "id": "ee2d0297-70ac-4598-9d15-53d3c079f1e5",
   "metadata": {},
   "source": [
    "## ONNX"
   ]
  },
  {
   "cell_type": "markdown",
   "id": "7fe26217-3a99-406f-be5b-396fa9449690",
   "metadata": {},
   "source": [
    "#### Export"
   ]
  },
  {
   "cell_type": "code",
   "execution_count": 23,
   "id": "c086e706-aae0-4c34-9b6a-0c4ab78efa00",
   "metadata": {
    "tags": []
   },
   "outputs": [
    {
     "name": "stdout",
     "output_type": "stream",
     "text": [
      "Model exported to finalProject_model.onnx\n"
     ]
    }
   ],
   "source": [
    "#dummy input for export\n",
    "dummy_input = torch.rand(1, 3, 32, 32).to(torch_device)\n",
    "\n",
    "#export the model to ONNX\n",
    "onnx_path = \"finalProject_model.onnx\"\n",
    "\n",
    "#export\n",
    "torch.onnx.export(\n",
    "    CNN,\n",
    "    dummy_input,\n",
    "    onnx_path,\n",
    "    verbose=False,\n",
    "    input_names=['input'],\n",
    "    output_names=['output']\n",
    ")\n",
    "\n",
    "print(f\"Model exported to {onnx_path}\")"
   ]
  },
  {
   "cell_type": "markdown",
   "id": "6bcd3f77-0d74-4fc8-a947-ee64cdc45d5a",
   "metadata": {},
   "source": [
    "#### Verification"
   ]
  },
  {
   "cell_type": "code",
   "execution_count": 24,
   "id": "bb01b57f-201c-4dda-9b33-c6a455ef1ee9",
   "metadata": {
    "tags": []
   },
   "outputs": [
    {
     "name": "stdout",
     "output_type": "stream",
     "text": [
      "Labels:  ['notPanda', 'panda', 'redPanda']\n",
      "ONNX Runtime outputs [array([[ 2.0371966 , -1.3835065 , -0.62636614]], dtype=float32)]\n"
     ]
    }
   ],
   "source": [
    "#load model\n",
    "onnx_model = onnx.load(onnx_path)\n",
    "\n",
    "#create runtime session\n",
    "ort_session = onnxruntime.InferenceSession(onnx_path)\n",
    "\n",
    "#fill with dummy data\n",
    "input_data = dummy_input.cpu().numpy()\n",
    "\n",
    "#run model with ONNX runtime\n",
    "ort_inputs={ort_session.get_inputs()[0].name: input_data}\n",
    "ort_outputs=ort_session.run(None, ort_inputs)\n",
    "\n",
    "print(\"Labels: \", train_tr.labels)\n",
    "print(\"ONNX Runtime outputs\", ort_outputs)"
   ]
  },
  {
   "cell_type": "code",
   "execution_count": null,
   "id": "b352954d-6e74-41d0-9090-4fea623d5690",
   "metadata": {},
   "outputs": [],
   "source": []
  }
 ],
 "metadata": {
  "kernelspec": {
   "display_name": "Python 3 (ipykernel)",
   "language": "python",
   "name": "python3"
  },
  "language_info": {
   "codemirror_mode": {
    "name": "ipython",
    "version": 3
   },
   "file_extension": ".py",
   "mimetype": "text/x-python",
   "name": "python",
   "nbconvert_exporter": "python",
   "pygments_lexer": "ipython3",
   "version": "3.11.4"
  }
 },
 "nbformat": 4,
 "nbformat_minor": 5
}
